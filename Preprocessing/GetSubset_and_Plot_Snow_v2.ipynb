{
 "cells": [
  {
   "cell_type": "code",
   "execution_count": 1,
   "id": "9ba0d839",
   "metadata": {},
   "outputs": [],
   "source": [
    "%matplotlib notebook\n",
    "\n",
    "import numpy as np\n",
    "import pandas as pd\n",
    "import netCDF4 as nc\n",
    "import geopandas as gpd\n",
    "import dask\n",
    "import dask.array as da\n",
    "import xarray as xr\n",
    "import csv\n",
    "from scipy.spatial import KDTree\n",
    "from shapely.geometry import Point\n",
    "import matplotlib.pyplot as plt\n",
    "from matplotlib.colors import Normalize\n",
    "from matplotlib.colors import LinearSegmentedColormap\n",
    "from datetime import datetime, timedelta\n",
    "import os"
   ]
  },
  {
   "cell_type": "code",
   "execution_count": 2,
   "id": "1303fdc2",
   "metadata": {},
   "outputs": [
    {
     "ename": "IndexError",
     "evalue": "list index out of range",
     "output_type": "error",
     "traceback": [
      "\u001b[0;31m---------------------------------------------------------------------------\u001b[0m",
      "\u001b[0;31mIndexError\u001b[0m                                Traceback (most recent call last)",
      "Cell \u001b[0;32mIn[2], line 14\u001b[0m\n\u001b[1;32m      2\u001b[0m location \u001b[38;5;241m=\u001b[39m \u001b[38;5;241m10\u001b[39m\n\u001b[1;32m      3\u001b[0m centers  \u001b[38;5;241m=\u001b[39m [[\u001b[38;5;241m-\u001b[39m\u001b[38;5;241m153.65\u001b[39m, \u001b[38;5;241m66.70\u001b[39m], \u001b[38;5;66;03m# Alatna (2, 3572)\u001b[39;00m\n\u001b[1;32m      4\u001b[0m             [\u001b[38;5;241m-\u001b[39m\u001b[38;5;241m155.69\u001b[39m, \u001b[38;5;241m66.01\u001b[39m], \u001b[38;5;66;03m# Huslia (2, 3612)\u001b[39;00m\n\u001b[1;32m      5\u001b[0m             [\u001b[38;5;241m-\u001b[39m\u001b[38;5;241m157.01\u001b[39m, \u001b[38;5;241m66.96\u001b[39m], \u001b[38;5;66;03m# (2, 3548)\u001b[39;00m\n\u001b[0;32m   (...)\u001b[0m\n\u001b[1;32m     11\u001b[0m             [\u001b[38;5;241m-\u001b[39m\u001b[38;5;241m146.44\u001b[39m, \u001b[38;5;241m66.96\u001b[39m], \u001b[38;5;66;03m# (2, 3550) \u001b[39;00m\n\u001b[1;32m     12\u001b[0m             [\u001b[38;5;241m-\u001b[39m\u001b[38;5;241m153.26\u001b[39m, \u001b[38;5;241m64.53\u001b[39m]] \u001b[38;5;66;03m# (2, 3728)\u001b[39;00m\n\u001b[0;32m---> 14\u001b[0m min_lon \u001b[38;5;241m=\u001b[39m \u001b[43mcenters\u001b[49m\u001b[43m[\u001b[49m\u001b[43mlocation\u001b[49m\u001b[43m]\u001b[49m[\u001b[38;5;241m0\u001b[39m] \u001b[38;5;241m-\u001b[39m \u001b[38;5;241m.65\u001b[39m\n\u001b[1;32m     15\u001b[0m max_lon \u001b[38;5;241m=\u001b[39m centers[location][\u001b[38;5;241m0\u001b[39m] \u001b[38;5;241m+\u001b[39m \u001b[38;5;241m.65\u001b[39m\n\u001b[1;32m     16\u001b[0m min_lat \u001b[38;5;241m=\u001b[39m centers[location][\u001b[38;5;241m1\u001b[39m] \u001b[38;5;241m-\u001b[39m \u001b[38;5;241m.25\u001b[39m\n",
      "\u001b[0;31mIndexError\u001b[0m: list index out of range"
     ]
    }
   ],
   "source": [
    "''' Corners of the box of interest '''\n",
    "location = 10\n",
    "centers  = [[-153.65, 66.70], # Alatna (2, 3572)\n",
    "            [-155.69, 66.01], # Huslia (2, 3612)\n",
    "            [-157.01, 66.96], # (2, 3548)\n",
    "            [-157.82, 65.81], # (2, 3630)\n",
    "            [-158.34, 65.23], # (2, 3674)\n",
    "            [-153.05, 67.12], # (2, 3537)\n",
    "            [-152.30, 67.12], # (2, 3539)\n",
    "            [-150.92, 66.71], # (2, 3568)\n",
    "            [-146.44, 66.96], # (2, 3550) \n",
    "            [-153.26, 64.53]] # (2, 3728)\n",
    "\n",
    "min_lon = centers[location][0] - .65\n",
    "max_lon = centers[location][0] + .65\n",
    "min_lat = centers[location][1] - .25\n",
    "max_lat = centers[location][1] + .25\n",
    "\n",
    "box_lon = np.array([min_lon, max_lon, max_lon, min_lon, min_lon])\n",
    "box_lat = np.array([min_lat, min_lat, max_lat, max_lat, min_lat])\n",
    "\n",
    "print(max(box_lon), min(box_lon), min_lon, max_lon, min_lat, max_lat)"
   ]
  },
  {
   "cell_type": "code",
   "execution_count": null,
   "id": "c4d44a3f",
   "metadata": {},
   "outputs": [],
   "source": [
    "fig, ax = plt.subplots(figsize=(8, 6))\n",
    "\n",
    "ax.set_xlim(min_lon - .1, max_lon + .1)\n",
    "ax.set_ylim(min_lat - .1, max_lat + .1)"
   ]
  },
  {
   "cell_type": "code",
   "execution_count": null,
   "id": "a9e7ceb4",
   "metadata": {},
   "outputs": [],
   "source": [
    "''' Get data '''\n",
    "ds = xr.open_dataset(\"/Users/joshuamiller/Documents/SULI 2023/Data/ABoVE_Snow_Cover/data/Alaska_snow_extent_depth_2001-2017.nc4\")\n",
    "\n",
    "print(\"---------------------------------------------------\")\n",
    "print(ds.coords, \" |\", ds.prod, \" |\", ds.attrs)\n",
    "print(\"---------------------------------------------------\")\n",
    "# Create Dask arrays for lat and lon\n",
    "lat = da.from_array(ds[\"lat\"].values, chunks=(1000, 1000))\n",
    "lon = da.from_array(ds[\"lon\"].values, chunks=(1000, 1000))\n",
    "time = da.from_array(ds[\"time\"].values, chunks=(365))"
   ]
  },
  {
   "cell_type": "code",
   "execution_count": null,
   "id": "3e7c57c0",
   "metadata": {},
   "outputs": [],
   "source": [
    "print(type(lat))\n",
    "#============================================================================================\n",
    "# Use Dask to filter the lat and lon arrays\n",
    "and_idx = np.array(np.where(np.logical_and(np.logical_and(lat >= min_lat, lat <= max_lat), \n",
    "                                           np.logical_and(lon >= min_lon, lon <= max_lon))))\n",
    "#============================================================================================\n",
    "# Compute the result and convert to numpy\n",
    "\n",
    "time = time.compute()\n",
    "\n",
    "print(str(time[0])[0:9], np.shape(time))"
   ]
  },
  {
   "cell_type": "code",
   "execution_count": null,
   "id": "2c3bf653",
   "metadata": {},
   "outputs": [],
   "source": [
    "print(np.shape(and_idx))"
   ]
  },
  {
   "cell_type": "code",
   "execution_count": null,
   "id": "21a58524",
   "metadata": {},
   "outputs": [],
   "source": [
    "print(\"lat.shape=\", np.shape(lat), \"lon.shape=\", np.shape(lon), \"time.shape=\", time.shape[0])"
   ]
  },
  {
   "cell_type": "code",
   "execution_count": null,
   "id": "3eac3aa4",
   "metadata": {},
   "outputs": [],
   "source": [
    "start_date = datetime.strptime('2001-1-5', '%Y-%m-%d')\n",
    "\n",
    "target_start = datetime.strptime('2015-12-29', '%Y-%m-%d')\n",
    "start = (target_start - start_date).days\n",
    "\n",
    "target_end   = datetime.strptime('2017-1-5', '%Y-%m-%d')\n",
    "end = (target_end - start_date).days\n",
    "\n",
    "curr_date = start_date + timedelta(days=10)"
   ]
  },
  {
   "cell_type": "markdown",
   "id": "deff78ac",
   "metadata": {},
   "source": [
    "## Create a subset of the snow depth data inside a box"
   ]
  },
  {
   "cell_type": "code",
   "execution_count": null,
   "id": "cb00858f",
   "metadata": {},
   "outputs": [],
   "source": [
    "''' Iterate through time and get snow values in the box '''\n",
    "path_csv = ['/Users/joshuamiller/Documents/SULI 2023/Data/Alatna_Box/Snow/RowsOfSnow',\n",
    "            '/Users/joshuamiller/Documents/SULI 2023/Data/Huslia_Box/Snow/RowsOfSnow',\n",
    "            '/Users/joshuamiller/Documents/SULI 2023/Data/Loc1/Snow/RowsOfSnow',\n",
    "            '/Users/joshuamiller/Documents/SULI 2023/Data/Loc2/Snow/RowsOfSnow',\n",
    "            '/Users/joshuamiller/Documents/SULI 2023/Data/Loc3/Snow/RowsOfSnow',\n",
    "            '/Users/joshuamiller/Documents/SULI 2023/Data/Loc4/Snow/RowsOfSnow',\n",
    "            '/Users/joshuamiller/Documents/SULI 2023/Data/Loc5/Snow/RowsOfSnow',\n",
    "            '/Users/joshuamiller/Documents/SULI 2023/Data/Loc6/Snow/RowsOfSnow',\n",
    "            '/Users/joshuamiller/Documents/SULI 2023/Data/Loc7/Snow/RowsOfSnow',\n",
    "            '/Users/joshuamiller/Documents/SULI 2023/Data/Loc8/Snow/RowsOfSnow']"
   ]
  },
  {
   "cell_type": "code",
   "execution_count": null,
   "id": "3523f85e",
   "metadata": {},
   "outputs": [],
   "source": [
    "snow_list = []\n",
    "time_list = []"
   ]
  },
  {
   "cell_type": "code",
   "execution_count": null,
   "id": "1b298b3c",
   "metadata": {},
   "outputs": [],
   "source": [
    "for t in range(np.shape(time)[0]):\n",
    "    curr_date = datetime.strptime(str(time[t])[0:10], '%Y-%m-%d')\n",
    "    \n",
    "    if (((curr_date - target_start).days >= 0) and ((target_end - curr_date).days >= 0)):\n",
    "        print(\"----------------------------------------------------------------------------\")\n",
    "        print(\"~~~~~~~~~~~~~~~~~~ \", t, ', date :', curr_date, \"~~~~~~~~~~~~~~~~~~~~\")\n",
    "        print(\"----------------------------------------------------------------------------\")\n",
    "        \n",
    "        new_snow = ds['snow_depth'][t, :, :]\n",
    "\n",
    "        print(np.shape(new_snow))\n",
    "        new_snow_darray = da.from_array(new_snow, chunks=(1000, 1000))\n",
    "        print(type(new_snow_darray), np.shape(new_snow_darray))\n",
    "\n",
    "        new_snow = []\n",
    "        for i in range(np.shape(and_idx)[1]):\n",
    "            val = new_snow_darray[and_idx[0][i]][and_idx[1][i]].compute().values\n",
    "\n",
    "            if np.isnan(val):\n",
    "                print(t, i, \"val = \", val)\n",
    "                val = 0\n",
    "            new_snow.append(val)\n",
    "\n",
    "            #print(\"snow =\", new_snow_darray[and_idx[0][i]][and_idx[1][i]].compute().values)\n",
    "\n",
    "        snow_list.append(new_snow)\n",
    "        time_list.append(time[t])\n",
    "#==========================================================================================\n",
    "''' Extract lat and lon values in the box '''\n",
    "new_lat = []\n",
    "new_lon = []\n",
    "for i in range(np.shape(and_idx)[1]):\n",
    "    new_lat.append(lat[and_idx[0][i]][and_idx[1][i]].compute())\n",
    "    new_lon.append(lon[and_idx[0][i]][and_idx[1][i]].compute())\n",
    "\n",
    "    print(\"lat =\", lat[and_idx[0][i]][and_idx[1][i]].compute(),\n",
    "          \", lon=\", lon[and_idx[0][i]][and_idx[1][i]].compute())"
   ]
  },
  {
   "cell_type": "code",
   "execution_count": null,
   "id": "713429e5",
   "metadata": {},
   "outputs": [],
   "source": [
    "print(min(new_lat), max(new_lat), min(new_lon), max(new_lon), len(new_lat), len(new_lon), np.shape(snow_list))\n",
    "print('----')\n",
    "print(min_lat, max_lat, min_lon, max_lon, np.shape(and_idx))"
   ]
  },
  {
   "cell_type": "code",
   "execution_count": null,
   "id": "70106d43",
   "metadata": {},
   "outputs": [],
   "source": [
    "new_snow_arr = np.asarray(snow_list)"
   ]
  },
  {
   "cell_type": "markdown",
   "id": "14f80acd",
   "metadata": {},
   "source": [
    "## Save this subset of the data as a .nc file"
   ]
  },
  {
   "cell_type": "code",
   "execution_count": null,
   "id": "f1e3b087",
   "metadata": {},
   "outputs": [],
   "source": [
    "new_snow_files = [\"/Users/joshuamiller/Documents/SULI 2023/Data/Alatna_Box/Snow/snow_Alanta_subset_grid.nc\",\n",
    "                  \"/Users/joshuamiller/Documents/SULI 2023/Data/Huslia_Box/Snow/snow_Huslia_subset_grid.nc\",\n",
    "                  \"/Users/joshuamiller/Documents/SULI 2023/Data/Loc1/Snow/snow_Loc1_subset_grid.nc\",\n",
    "                  \"/Users/joshuamiller/Documents/SULI 2023/Data/Loc2/Snow/snow_Loc2_subset_grid.nc\",\n",
    "                  \"/Users/joshuamiller/Documents/SULI 2023/Data/Loc3/Snow/snow_Loc3_subset_grid.nc\",\n",
    "                  \"/Users/joshuamiller/Documents/SULI 2023/Data/Loc4/Snow/snow_Loc4_subset_grid.nc\",\n",
    "                  \"/Users/joshuamiller/Documents/SULI 2023/Data/Loc5/Snow/snow_Loc5_subset_grid.nc\",\n",
    "                  \"/Users/joshuamiller/Documents/SULI 2023/Data/Loc6/Snow/snow_Loc6_subset_grid.nc\",\n",
    "                  \"/Users/joshuamiller/Documents/SULI 2023/Data/Loc7/Snow/snow_Loc7_subset_grid.nc\",\n",
    "                  \"/Users/joshuamiller/Documents/SULI 2023/Data/Loc8/Snow/snow_Loc8_subset_grid.nc\"]"
   ]
  },
  {
   "cell_type": "code",
   "execution_count": null,
   "id": "0bd42a3b",
   "metadata": {},
   "outputs": [],
   "source": [
    "''' Create an nc file of the new_snow data '''\n",
    "#ncfile.close()\n",
    "ncfile = nc.Dataset(new_snow_files[location], 'w', format='NETCDF4')\n",
    "\n",
    "# Create dimensions\n",
    "ncfile.createDimension('time', np.shape(new_snow_arr)[0])\n",
    "ncfile.createDimension('x', np.shape(new_snow_arr)[1])\n",
    "\n",
    "# Create variables\n",
    "lat_var = ncfile.createVariable('lat', 'f4', ('x',))\n",
    "lon_var = ncfile.createVariable('lon', 'f4', ('x',))\n",
    "time_var = ncfile.createVariable('time', 'i4', ('time',))\n",
    "snow_var = ncfile.createVariable('snow_depth', 'f4', ('time','x',))\n",
    "\n",
    "lat_var.setncattr('dimensions', 'x')\n",
    "lon_var.setncattr('dimensions', 'x')\n",
    "time_var.setncattr('dimensions', 'time')\n",
    "snow_var.setncattr('dimensions', 'x' 'time')\n",
    "\n",
    "# Assign values to variables\n",
    "lat_var[:] = new_lat\n",
    "lon_var[:] = new_lon\n",
    "time_var[:] = time_list\n",
    "snow_var[:] = new_snow_arr\n",
    "\n",
    "# Add variable attributes\n",
    "lat_var.units = 'degrees north'\n",
    "lon_var.units = 'degrees east'\n",
    "time_var.units = 'date'\n",
    "snow_var.units = 'm'\n",
    "\n",
    "# Close the file\n",
    "ncfile.close()"
   ]
  },
  {
   "cell_type": "code",
   "execution_count": null,
   "id": "d504eb92",
   "metadata": {},
   "outputs": [],
   "source": [
    "''' Open to make sure it worked '''\n",
    "f = nc.Dataset(new_snow_files[location], \"r\")\n",
    "\n",
    "# Print the dimensions of the file\n",
    "print(f.dimensions.keys())\n",
    "\n",
    "# Print the variables in the file\n",
    "print(f.variables.keys())\n",
    "\n",
    "new_nc_lat = f.variables['lat']\n",
    "new_nc_lat = new_nc_lat[:]\n",
    "\n",
    "new_nc_lon = f.variables['lon']\n",
    "new_nc_lon = new_nc_lon[:]\n",
    "\n",
    "new_nc_time = f.variables['time']\n",
    "new_nc_time = new_nc_time[:]\n",
    "\n",
    "new_nc_snow = f.variables['snow_depth']\n",
    "new_nc_snow = new_nc_snow[:]\n",
    "\n",
    "f.close()"
   ]
  },
  {
   "cell_type": "code",
   "execution_count": null,
   "id": "bc00f269",
   "metadata": {},
   "outputs": [],
   "source": [
    "print(\"lat.shape=\", np.shape(new_nc_lat), \"lon.shape=\", np.shape(new_nc_lon), \"time.shape=\", np.shape(new_nc_time), \"snow=\", np.shape(new_nc_snow))"
   ]
  },
  {
   "cell_type": "code",
   "execution_count": null,
   "id": "a762b254",
   "metadata": {},
   "outputs": [],
   "source": [
    " ''' Get points for the snow plot and box '''\n",
    "points = [Point(xy) for xy in zip(new_nc_lon, new_nc_lat)]\n",
    "points_gdf = gpd.GeoDataFrame(geometry=points)\n",
    "\n",
    "\n",
    "''' Corners of the box of interest '''\n",
    "points_box = [Point(xy) for xy in zip(box_lon, box_lat)]\n",
    "points_box_gdf = gpd.GeoDataFrame(geometry=points_box)"
   ]
  },
  {
   "cell_type": "code",
   "execution_count": null,
   "id": "dda6df05",
   "metadata": {},
   "outputs": [],
   "source": [
    "date = 0\n",
    "\n",
    "new_snow_gdf = gpd.GeoDataFrame(geometry=points).assign(data=new_nc_snow[date, :].ravel())"
   ]
  },
  {
   "cell_type": "markdown",
   "id": "ed685e41",
   "metadata": {},
   "source": [
    "## Make the plot"
   ]
  },
  {
   "cell_type": "code",
   "execution_count": null,
   "id": "8288d741",
   "metadata": {},
   "outputs": [],
   "source": [
    "''' Plot world outline '''\n",
    "coast = gpd.read_file('/Users/joshuamiller/Documents/SULI 2023/Environment/natural_earth_vector/10m_physical/ne_10m_coastline.shp')\n",
    "\n",
    "ak = gpd.read_file(\"/Users/joshuamiller/Desktop/cb_2018_us_state_5m/cb_2018_us_state_5m.shp\")"
   ]
  },
  {
   "cell_type": "code",
   "execution_count": null,
   "id": "58293a8d",
   "metadata": {},
   "outputs": [],
   "source": [
    "new_snow_norm = Normalize(vmin=0, vmax=max(new_nc_snow[date, :].ravel()))\n",
    "new_snow_cmap = LinearSegmentedColormap.from_list('custom', ['blue', 'green'], N=200) # Higher N=more smooth"
   ]
  },
  {
   "cell_type": "code",
   "execution_count": null,
   "id": "15bf4a62",
   "metadata": {},
   "outputs": [],
   "source": [
    "ak.plot(ax=ax, color='white', edgecolor='black', linewidth=0.1, alpha=1, legend=True) # GOOD lots the map\n",
    "\n",
    "plt.draw()"
   ]
  },
  {
   "cell_type": "code",
   "execution_count": null,
   "id": "26be0c21",
   "metadata": {},
   "outputs": [],
   "source": [
    "new_snow_gdf.plot(ax=ax, column='data', cmap=new_snow_cmap, norm=new_snow_norm, markersize=5, alpha=1, legend=True)\n",
    "\n",
    "plt.draw()"
   ]
  },
  {
   "cell_type": "code",
   "execution_count": null,
   "id": "44d84c0a",
   "metadata": {},
   "outputs": [],
   "source": [
    "points_box_gdf.plot(ax=ax, color='lime', edgecolor='lime', linewidth=.5, alpha=1)\n",
    "\n",
    "plt.draw()"
   ]
  },
  {
   "cell_type": "code",
   "execution_count": null,
   "id": "96741873",
   "metadata": {},
   "outputs": [],
   "source": []
  },
  {
   "cell_type": "code",
   "execution_count": null,
   "id": "239baef6",
   "metadata": {},
   "outputs": [],
   "source": []
  },
  {
   "cell_type": "code",
   "execution_count": null,
   "id": "29617bf4",
   "metadata": {},
   "outputs": [],
   "source": []
  },
  {
   "cell_type": "code",
   "execution_count": null,
   "id": "4a45fe17",
   "metadata": {},
   "outputs": [],
   "source": []
  }
 ],
 "metadata": {
  "kernelspec": {
   "display_name": "Python 3 (ipykernel)",
   "language": "python",
   "name": "python3"
  },
  "language_info": {
   "codemirror_mode": {
    "name": "ipython",
    "version": 3
   },
   "file_extension": ".py",
   "mimetype": "text/x-python",
   "name": "python",
   "nbconvert_exporter": "python",
   "pygments_lexer": "ipython3",
   "version": "3.11.0"
  }
 },
 "nbformat": 4,
 "nbformat_minor": 5
}
